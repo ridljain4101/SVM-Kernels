{
 "cells": [
  {
   "cell_type": "code",
   "execution_count": null,
   "id": "39c93da2",
   "metadata": {},
   "outputs": [],
   "source": [
    "## creating the dataset whcich is non-linear"
   ]
  },
  {
   "cell_type": "code",
   "execution_count": 1,
   "id": "b54acbf0",
   "metadata": {},
   "outputs": [],
   "source": [
    "import numpy as np\n",
    "import matplotlib.pyplot as plt\n",
    "\n",
    "x = np.linspace(-5.0, 5.0, 100) ##evenly spaced nnumbers between -5 and 5.\n",
    "y = np.sqrt(10**2 - x**2) ##circle of radius 10.\n",
    "y=np.hstack([y,-y])\n",
    "x=np.hstack([x,-x])"
   ]
  },
  {
   "cell_type": "code",
   "execution_count": 2,
   "id": "7a6d22a1",
   "metadata": {},
   "outputs": [],
   "source": [
    "x1 = np.linspace(-5.0, 5.0, 100)\n",
    "y1 = np.sqrt(5**2 - x1**2)\n",
    "y1=np.hstack([y1,-y1])\n",
    "x1=np.hstack([x1,-x1])"
   ]
  },
  {
   "cell_type": "code",
   "execution_count": 3,
   "id": "6a3dd1d8",
   "metadata": {},
   "outputs": [
    {
     "data": {
      "text/plain": [
       "<matplotlib.collections.PathCollection at 0x222571c1910>"
      ]
     },
     "execution_count": 3,
     "metadata": {},
     "output_type": "execute_result"
    },
    {
     "data": {
      "image/png": "[encoded data removed]",
      "text/plain": [
       "<Figure size 432x288 with 1 Axes>"
      ]
     },
     "metadata": {
      "needs_background": "light"
     },
     "output_type": "display_data"
    }
   ],
   "source": [
    "plt.scatter(y,x)\n",
    "plt.scatter(y1,x1)"
   ]
  },
  {
   "cell_type": "code",
   "execution_count": 5,
   "id": "f9d5f3f4",
   "metadata": {},
   "outputs": [
    {
     "data": {
      "text/html": [
       "<div>\n",
       "<style scoped>\n",
       "    .dataframe tbody tr th:only-of-type {\n",
       "        vertical-align: middle;\n",
       "    }\n",
       "\n",
       "    .dataframe tbody tr th {\n",
       "        vertical-align: top;\n",
       "    }\n",
       "\n",
       "    .dataframe thead th {\n",
       "        text-align: right;\n",
       "    }\n",
       "</style>\n",
       "<table border=\"1\" class=\"dataframe\">\n",
       "  <thead>\n",
       "    <tr style=\"text-align: right;\">\n",
       "      <th></th>\n",
       "      <th>X1</th>\n",
       "      <th>X2</th>\n",
       "      <th>Y</th>\n",
       "    </tr>\n",
       "  </thead>\n",
       "  <tbody>\n",
       "    <tr>\n",
       "      <th>195</th>\n",
       "      <td>-1.969049</td>\n",
       "      <td>-4.59596</td>\n",
       "      <td>1</td>\n",
       "    </tr>\n",
       "    <tr>\n",
       "      <th>196</th>\n",
       "      <td>-1.714198</td>\n",
       "      <td>-4.69697</td>\n",
       "      <td>1</td>\n",
       "    </tr>\n",
       "    <tr>\n",
       "      <th>197</th>\n",
       "      <td>-1.406908</td>\n",
       "      <td>-4.79798</td>\n",
       "      <td>1</td>\n",
       "    </tr>\n",
       "    <tr>\n",
       "      <th>198</th>\n",
       "      <td>-0.999949</td>\n",
       "      <td>-4.89899</td>\n",
       "      <td>1</td>\n",
       "    </tr>\n",
       "    <tr>\n",
       "      <th>199</th>\n",
       "      <td>-0.000000</td>\n",
       "      <td>-5.00000</td>\n",
       "      <td>1</td>\n",
       "    </tr>\n",
       "  </tbody>\n",
       "</table>\n",
       "</div>"
      ],
      "text/plain": [
       "           X1       X2  Y\n",
       "195 -1.969049 -4.59596  1\n",
       "196 -1.714198 -4.69697  1\n",
       "197 -1.406908 -4.79798  1\n",
       "198 -0.999949 -4.89899  1\n",
       "199 -0.000000 -5.00000  1"
      ]
     },
     "execution_count": 5,
     "metadata": {},
     "output_type": "execute_result"
    }
   ],
   "source": [
    "import pandas as pd\n",
    "df1 =pd.DataFrame(np.vstack([y,x]).T,columns=['X1','X2'])\n",
    "df1['Y']=0\n",
    "df2 =pd.DataFrame(np.vstack([y1,x1]).T,columns=['X1','X2'])\n",
    "df2['Y']=1\n",
    "df = df1.append(df2)\n",
    "df.tail(5)"
   ]
  },
  {
   "cell_type": "code",
   "execution_count": 39,
   "id": "54b08f89",
   "metadata": {},
   "outputs": [],
   "source": [
    "## indep and dep features.\n",
    "X =np.array(df[['X1','X2']]).reshape(-1,2)  ## dataframe containing X1 and X2 features.\n",
    "y =np.array(df['Y']).reshape(-1,1)"
   ]
  },
  {
   "cell_type": "code",
   "execution_count": 56,
   "id": "0d4bb22d",
   "metadata": {},
   "outputs": [],
   "source": [
    "##splitting the data.\n",
    "from sklearn.model_selection import train_test_split\n",
    "X_train,X_test,y_train,y_test = train_test_split(X,y,test_size=0.25,random_state=0)"
   ]
  },
  {
   "cell_type": "code",
   "execution_count": 57,
   "id": "f0b0c974",
   "metadata": {},
   "outputs": [
    {
     "data": {
      "text/plain": [
       "array([[-9.84252604,  1.76767677],\n",
       "       [-2.87479787,  4.09090909],\n",
       "       [-4.92573145,  0.85858586],\n",
       "       [-8.82827705, -4.6969697 ],\n",
       "       [ 4.98748561, -0.35353535],\n",
       "       [ 9.94359667,  1.06060606],\n",
       "       [-9.98455598, -0.55555556],\n",
       "       [ 4.86319318,  1.16161616],\n",
       "       [-9.96307334,  0.85858586],\n",
       "       [ 3.48448249, -3.58585859],\n",
       "       [ 9.91996849, -1.26262626],\n",
       "       [-9.87667553,  1.56565657],\n",
       "       [-9.29553652,  3.68686869],\n",
       "       [-4.99770379,  0.15151515],\n",
       "       [ 9.25483518, -3.78787879],\n",
       "       [ 9.9538523 ,  0.95959596],\n",
       "       [ 2.38606299,  4.39393939],\n",
       "       [-9.9538523 ,  0.95959596],\n",
       "       [ 2.38606299, -4.39393939],\n",
       "       [-8.66025404, -5.        ],\n",
       "       [-9.63508769, -2.67676768],\n",
       "       [ 4.63767284,  1.86868687],\n",
       "       [-9.66258107,  2.57575758],\n",
       "       [-4.96903995,  0.55555556],\n",
       "       [-9.66258107, -2.57575758],\n",
       "       [-3.37742495,  3.68686869],\n",
       "       [ 9.57666854,  2.87878788],\n",
       "       [ 9.37314414, -3.48484848],\n",
       "       [ 3.37742495,  3.68686869],\n",
       "       [-8.77378994,  4.7979798 ],\n",
       "       [-9.7832598 , -2.07070707],\n",
       "       [-1.71419826,  4.6969697 ],\n",
       "       [-4.7485492 ,  1.56565657],\n",
       "       [ 4.34460872, -2.47474747],\n",
       "       [ 9.87667553,  1.56565657],\n",
       "       [ 9.63508769,  2.67676768],\n",
       "       [ 9.12493632,  4.09090909],\n",
       "       [-9.714184  , -2.37373737],\n",
       "       [-9.54572176, -2.97979798],\n",
       "       [-0.        , -5.        ],\n",
       "       [-8.66025404,  5.        ],\n",
       "       [-4.1573971 ,  2.77777778],\n",
       "       [ 8.98294476, -4.39393939],\n",
       "       [ 8.71779204, -4.8989899 ],\n",
       "       [ 1.40690791,  4.7979798 ],\n",
       "       [ 9.98966408,  0.45454545],\n",
       "       [-4.34460872, -2.47474747],\n",
       "       [ 4.96903995,  0.55555556],\n",
       "       [-9.96307334, -0.85858586],\n",
       "       [ 4.71404521, -1.66666667],\n",
       "       [ 4.99361903, -0.25252525],\n",
       "       [-9.98455598,  0.55555556],\n",
       "       [ 2.18984681,  4.49494949],\n",
       "       [-9.76133416, -2.17171717],\n",
       "       [ 3.93809873,  3.08080808],\n",
       "       [-3.85694608,  3.18181818],\n",
       "       [ 9.99681104,  0.25252525],\n",
       "       [ 9.16955321, -3.98989899],\n",
       "       [ 9.714184  , -2.37373737],\n",
       "       [ 9.98966408, -0.45454545],\n",
       "       [ 9.68894344,  2.47474747],\n",
       "       [ 4.45361771,  2.27272727],\n",
       "       [ 8.88128118, -4.5959596 ],\n",
       "       [-4.97929598, -0.45454545],\n",
       "       [-9.07897646, -4.19191919],\n",
       "       [-4.50373673, -2.17171717],\n",
       "       [-9.98966408,  0.45454545],\n",
       "       [ 8.93282873, -4.49494949],\n",
       "       [-9.98966408, -0.45454545],\n",
       "       [-3.01342099,  3.98989899],\n",
       "       [ 9.03165312, -4.29292929],\n",
       "       [ 4.88621682,  1.06060606],\n",
       "       [ 9.82384901,  1.86868687],\n",
       "       [ 9.54572176, -2.97979798],\n",
       "       [-9.03165312,  4.29292929],\n",
       "       [ 9.3349675 , -3.58585859],\n",
       "       [-4.81045693, -1.36363636],\n",
       "       [-1.96904936,  4.5959596 ],\n",
       "       [-4.86319318, -1.16161616],\n",
       "       [-4.55106276,  2.07070707],\n",
       "       [-4.81045693,  1.36363636],\n",
       "       [ 9.89215905,  1.46464646],\n",
       "       [ 9.98455598,  0.55555556],\n",
       "       [-8.98294476,  4.39393939],\n",
       "       [-0.        ,  5.        ],\n",
       "       [ 4.55106276, -2.07070707],\n",
       "       [-9.60645359,  2.77777778],\n",
       "       [-4.40061029, -2.37373737],\n",
       "       [-1.96904936, -4.5959596 ],\n",
       "       [-4.34460872,  2.47474747],\n",
       "       [-3.93809873, -3.08080808],\n",
       "       [ 4.98748561,  0.35353535],\n",
       "       [ 9.9784228 ,  0.65656566],\n",
       "       [ 9.07897646, -4.19191919],\n",
       "       [-9.12493632, -4.09090909],\n",
       "       [-9.99374868,  0.35353535],\n",
       "       [-9.89215905,  1.46464646],\n",
       "       [-2.87479787, -4.09090909],\n",
       "       [ 4.78067053,  1.46464646],\n",
       "       [-4.78067053, -1.46464646]])"
      ]
     },
     "execution_count": 57,
     "metadata": {},
     "output_type": "execute_result"
    }
   ],
   "source": [
    "X_test.reshape(-1,2)"
   ]
  },
  {
   "cell_type": "code",
   "execution_count": 58,
   "id": "ca7f5d57",
   "metadata": {},
   "outputs": [
    {
     "data": {
      "text/plain": [
       "array([[ 4.99974492,  0.05050505],\n",
       "       [ 9.90658851,  1.36363636],\n",
       "       [-3.26373625,  3.78787879],\n",
       "       [-9.9538523 , -0.95959596],\n",
       "       [ 3.68098326,  3.38383838],\n",
       "       [-4.90705366,  0.95959596],\n",
       "       [ 9.4802971 ,  3.18181818],\n",
       "       [-4.99974492,  0.05050505],\n",
       "       [-9.99374868, -0.35353535],\n",
       "       [ 1.96904936,  4.5959596 ],\n",
       "       [ 8.82827705,  4.6969697 ],\n",
       "       [ 9.16955321,  3.98989899],\n",
       "       [ 1.71419826,  4.6969697 ],\n",
       "       [ 9.57666854, -2.87878788],\n",
       "       [-4.7485492 , -1.56565657],\n",
       "       [ 3.68098326, -3.38383838],\n",
       "       [ 4.90705366,  0.95959596],\n",
       "       [ 9.99987246, -0.05050505],\n",
       "       [ 4.86319318, -1.16161616],\n",
       "       [-4.95670471,  0.65656566],\n",
       "       [ 9.03165312,  4.29292929],\n",
       "       [ 4.2231404 , -2.67676768],\n",
       "       [ 4.7485492 , -1.56565657],\n",
       "       [ 4.67710582, -1.76767677],\n",
       "       [-4.1573971 , -2.77777778],\n",
       "       [-9.97126266,  0.75757576],\n",
       "       [ 9.60645359, -2.77777778],\n",
       "       [ 4.99361903,  0.25252525],\n",
       "       [-4.99974492, -0.05050505],\n",
       "       [-9.82384901, -1.86868687],\n",
       "       [-9.99987246, -0.05050505],\n",
       "       [-2.38606299, -4.39393939],\n",
       "       [ 9.86013297,  1.66666667],\n",
       "       [ 4.90705366, -0.95959596],\n",
       "       [ 3.85694608, -3.18181818],\n",
       "       [-8.71779204,  4.8989899 ],\n",
       "       [-3.14269681,  3.88888889],\n",
       "       [-8.93282873, -4.49494949],\n",
       "       [-4.40061029,  2.37373737],\n",
       "       [ 9.44579475, -3.28282828],\n",
       "       [-9.89215905, -1.46464646],\n",
       "       [-9.29553652, -3.68686869],\n",
       "       [ 9.80409577, -1.96969697],\n",
       "       [-9.3349675 ,  3.58585859],\n",
       "       [ 4.81045693,  1.36363636],\n",
       "       [-8.82827705,  4.6969697 ],\n",
       "       [-4.92573145, -0.85858586],\n",
       "       [ 4.97929598, -0.45454545],\n",
       "       [ 4.78067053, -1.46464646],\n",
       "       [-9.41008171,  3.38383838],\n",
       "       [-4.59568209,  1.96969697],\n",
       "       [-9.54572176,  2.97979798],\n",
       "       [ 3.01342099,  3.98989899],\n",
       "       [-9.25483518,  3.78787879],\n",
       "       [ 3.5855029 , -3.48484848],\n",
       "       [-9.90658851,  1.36363636],\n",
       "       [ 4.28549564,  2.57575758],\n",
       "       [-9.714184  ,  2.37373737],\n",
       "       [-8.71779204, -4.8989899 ],\n",
       "       [ 0.        ,  5.        ],\n",
       "       [ 3.85694608,  3.18181818],\n",
       "       [-9.86013297,  1.66666667],\n",
       "       [ 9.86013297, -1.66666667],\n",
       "       [-4.08810229, -2.87878788],\n",
       "       [-9.91996849, -1.26262626],\n",
       "       [ 9.87667553, -1.56565657],\n",
       "       [ 4.63767284, -1.86868687],\n",
       "       [ 8.77378994,  4.7979798 ],\n",
       "       [ 9.3349675 ,  3.58585859],\n",
       "       [ 9.93230325,  1.16161616],\n",
       "       [-9.84252604, -1.76767677],\n",
       "       [ 3.77134438,  3.28282828],\n",
       "       [ 0.        , -5.        ],\n",
       "       [-2.72540153, -4.19191919],\n",
       "       [ 4.59568209, -1.96969697],\n",
       "       [ 3.26373625,  3.78787879],\n",
       "       [-9.07897646,  4.19191919],\n",
       "       [ 9.99374868, -0.35353535],\n",
       "       [-4.0150721 ,  2.97979798],\n",
       "       [-1.71419826, -4.6969697 ],\n",
       "       [ 4.28549564, -2.57575758],\n",
       "       [ 9.714184  ,  2.37373737],\n",
       "       [-9.91996849,  1.26262626],\n",
       "       [-3.85694608, -3.18181818],\n",
       "       [ 4.0150721 , -2.97979798],\n",
       "       [ 3.01342099, -3.98989899],\n",
       "       [ 9.7832598 , -2.07070707],\n",
       "       [-9.4802971 , -3.18181818],\n",
       "       [-4.88621682, -1.06060606],\n",
       "       [ 4.50373673,  2.17171717],\n",
       "       [ 9.99885209,  0.15151515],\n",
       "       [-4.50373673,  2.17171717],\n",
       "       [-4.99361903, -0.25252525],\n",
       "       [ 9.73831149, -2.27272727],\n",
       "       [ 8.77378994, -4.7979798 ],\n",
       "       [ 3.77134438, -3.28282828],\n",
       "       [-9.9784228 , -0.65656566],\n",
       "       [ 3.26373625, -3.78787879],\n",
       "       [-4.2231404 , -2.67676768],\n",
       "       [ 4.08810229, -2.87878788],\n",
       "       [-9.93230325,  1.16161616],\n",
       "       [ 4.81045693, -1.36363636],\n",
       "       [ 3.93809873, -3.08080808],\n",
       "       [ 4.34460872,  2.47474747],\n",
       "       [ 4.08810229,  2.87878788],\n",
       "       [-2.563349  ,  4.29292929],\n",
       "       [ 4.88621682, -1.06060606],\n",
       "       [ 9.89215905, -1.46464646],\n",
       "       [ 1.96904936, -4.5959596 ],\n",
       "       [-2.563349  , -4.29292929],\n",
       "       [ 9.84252604,  1.76767677],\n",
       "       [ 9.66258107, -2.57575758],\n",
       "       [-4.67710582,  1.76767677],\n",
       "       [ 9.98455598, -0.55555556],\n",
       "       [ 4.92573145, -0.85858586],\n",
       "       [-9.7832598 ,  2.07070707],\n",
       "       [ 8.98294476,  4.39393939],\n",
       "       [-9.21284664,  3.88888889],\n",
       "       [-9.86013297, -1.66666667],\n",
       "       [-3.01342099, -3.98989899],\n",
       "       [-3.68098326, -3.38383838],\n",
       "       [-4.94227468,  0.75757576],\n",
       "       [ 9.9538523 , -0.95959596],\n",
       "       [ 9.4802971 , -3.18181818],\n",
       "       [ 3.5855029 ,  3.48484848],\n",
       "       [ 9.54572176,  2.97979798],\n",
       "       [ 4.99974492, -0.05050505],\n",
       "       [-2.18984681, -4.49494949],\n",
       "       [ 9.76133416,  2.17171717],\n",
       "       [ 9.29553652, -3.68686869],\n",
       "       [-4.67710582, -1.76767677],\n",
       "       [ 3.37742495, -3.68686869],\n",
       "       [-3.48448249, -3.58585859],\n",
       "       [-3.14269681, -3.88888889],\n",
       "       [ 4.50373673, -2.17171717],\n",
       "       [-9.94359667, -1.06060606],\n",
       "       [-8.88128118,  4.5959596 ],\n",
       "       [-9.93230325, -1.16161616],\n",
       "       [ 9.41008171,  3.38383838],\n",
       "       [-9.16955321, -3.98989899],\n",
       "       [-1.40690791, -4.7979798 ],\n",
       "       [-9.4802971 ,  3.18181818],\n",
       "       [ 4.97929598,  0.45454545],\n",
       "       [-9.21284664, -3.88888889],\n",
       "       [ 2.72540153, -4.19191919],\n",
       "       [-4.28549564, -2.57575758],\n",
       "       [-9.16955321,  3.98989899],\n",
       "       [-9.99987246,  0.05050505],\n",
       "       [-9.97126266, -0.75757576],\n",
       "       [-9.99681104, -0.25252525],\n",
       "       [ 9.41008171, -3.38383838],\n",
       "       [ 4.59568209,  1.96969697],\n",
       "       [ 9.66258107,  2.57575758],\n",
       "       [-9.12493632,  4.09090909],\n",
       "       [-4.45361771,  2.27272727],\n",
       "       [ 2.18984681, -4.49494949],\n",
       "       [-3.5855029 ,  3.48484848],\n",
       "       [-9.94359667,  1.06060606],\n",
       "       [ 4.83795152, -1.26262626],\n",
       "       [-3.93809873,  3.08080808],\n",
       "       [ 4.99770379, -0.15151515],\n",
       "       [-2.72540153,  4.19191919],\n",
       "       [ 9.51360192, -3.08080808],\n",
       "       [ 4.40061029, -2.37373737],\n",
       "       [-2.38606299,  4.39393939],\n",
       "       [ 8.82827705, -4.6969697 ],\n",
       "       [ 4.2231404 ,  2.67676768],\n",
       "       [-9.68894344,  2.47474747],\n",
       "       [ 9.60645359,  2.77777778],\n",
       "       [-9.37314414, -3.48484848],\n",
       "       [-0.99994898,  4.8989899 ],\n",
       "       [-4.0150721 , -2.97979798],\n",
       "       [-4.98748561,  0.35353535],\n",
       "       [-9.44579475, -3.28282828],\n",
       "       [-4.95670471, -0.65656566],\n",
       "       [ 9.51360192,  3.08080808],\n",
       "       [ 4.92573145,  0.85858586],\n",
       "       [ 9.21284664, -3.88888889],\n",
       "       [ 0.99994898,  4.8989899 ],\n",
       "       [ 9.29553652,  3.68686869],\n",
       "       [ 4.71404521,  1.66666667],\n",
       "       [ 9.90658851, -1.36363636],\n",
       "       [-3.77134438, -3.28282828],\n",
       "       [ 9.96307334,  0.85858586],\n",
       "       [ 9.96307334, -0.85858586],\n",
       "       [ 4.55106276,  2.07070707],\n",
       "       [ 9.99987246,  0.05050505],\n",
       "       [ 2.87479787, -4.09090909],\n",
       "       [-3.77134438,  3.28282828],\n",
       "       [-3.68098326,  3.38383838],\n",
       "       [-4.63767284,  1.86868687],\n",
       "       [-9.63508769,  2.67676768],\n",
       "       [ 4.1573971 , -2.77777778],\n",
       "       [ 9.91996849,  1.26262626],\n",
       "       [-1.40690791,  4.7979798 ],\n",
       "       [-9.80409577,  1.96969697],\n",
       "       [-9.25483518, -3.78787879],\n",
       "       [ 9.63508769, -2.67676768],\n",
       "       [ 9.9784228 , -0.65656566],\n",
       "       [ 8.66025404, -5.        ],\n",
       "       [ 0.99994898, -4.8989899 ],\n",
       "       [-4.88621682,  1.06060606],\n",
       "       [ 8.71779204,  4.8989899 ],\n",
       "       [-3.26373625, -3.78787879],\n",
       "       [-9.57666854, -2.87878788],\n",
       "       [ 4.95670471,  0.65656566],\n",
       "       [ 8.93282873,  4.49494949],\n",
       "       [-4.59568209, -1.96969697],\n",
       "       [ 8.88128118,  4.5959596 ],\n",
       "       [-4.99770379, -0.15151515],\n",
       "       [-9.80409577, -1.96969697],\n",
       "       [ 9.80409577,  1.96969697],\n",
       "       [-2.18984681,  4.49494949],\n",
       "       [ 9.99885209, -0.15151515],\n",
       "       [ 2.563349  , -4.29292929],\n",
       "       [ 4.0150721 ,  2.97979798],\n",
       "       [ 4.45361771, -2.27272727],\n",
       "       [-9.99885209,  0.15151515],\n",
       "       [-9.9784228 ,  0.65656566],\n",
       "       [-9.51360192, -3.08080808],\n",
       "       [-9.82384901,  1.86868687],\n",
       "       [-4.94227468, -0.75757576],\n",
       "       [-0.99994898, -4.8989899 ],\n",
       "       [ 4.83795152,  1.26262626],\n",
       "       [-4.28549564,  2.57575758],\n",
       "       [ 1.71419826, -4.6969697 ],\n",
       "       [ 9.37314414,  3.48484848],\n",
       "       [-9.57666854,  2.87878788],\n",
       "       [-4.97929598,  0.45454545],\n",
       "       [-4.71404521, -1.66666667],\n",
       "       [ 9.07897646,  4.19191919],\n",
       "       [ 9.44579475,  3.28282828],\n",
       "       [ 4.67710582,  1.76767677],\n",
       "       [-9.51360192,  3.08080808],\n",
       "       [ 2.72540153,  4.19191919],\n",
       "       [ 9.97126266,  0.75757576],\n",
       "       [-4.08810229,  2.87878788],\n",
       "       [ 4.94227468,  0.75757576],\n",
       "       [-4.96903995, -0.55555556],\n",
       "       [ 9.97126266, -0.75757576],\n",
       "       [-8.93282873,  4.49494949],\n",
       "       [-4.63767284, -1.86868687],\n",
       "       [ 4.40061029,  2.37373737],\n",
       "       [-4.98748561, -0.35353535],\n",
       "       [ 9.93230325, -1.16161616],\n",
       "       [ 9.99374868,  0.35353535],\n",
       "       [-4.99361903,  0.25252525],\n",
       "       [-9.76133416,  2.17171717],\n",
       "       [ 2.87479787,  4.09090909],\n",
       "       [ 9.76133416, -2.17171717],\n",
       "       [-9.41008171, -3.38383838],\n",
       "       [-9.90658851, -1.36363636],\n",
       "       [-9.99885209, -0.15151515],\n",
       "       [ 4.96903995, -0.55555556],\n",
       "       [ 1.40690791, -4.7979798 ],\n",
       "       [ 9.82384901, -1.86868687],\n",
       "       [ 9.84252604, -1.76767677],\n",
       "       [-9.73831149,  2.27272727],\n",
       "       [-9.3349675 , -3.58585859],\n",
       "       [-4.45361771, -2.27272727],\n",
       "       [ 3.14269681,  3.88888889],\n",
       "       [-4.83795152, -1.26262626],\n",
       "       [-9.99681104,  0.25252525],\n",
       "       [ 3.48448249,  3.58585859],\n",
       "       [-4.55106276, -2.07070707],\n",
       "       [-9.60645359, -2.77777778],\n",
       "       [ 8.66025404,  5.        ],\n",
       "       [-4.86319318,  1.16161616],\n",
       "       [-4.78067053,  1.46464646],\n",
       "       [-8.77378994, -4.7979798 ],\n",
       "       [ 4.95670471, -0.65656566],\n",
       "       [-9.37314414,  3.48484848],\n",
       "       [ 4.7485492 ,  1.56565657],\n",
       "       [ 9.73831149,  2.27272727],\n",
       "       [-4.71404521,  1.66666667],\n",
       "       [ 9.68894344, -2.47474747],\n",
       "       [-9.87667553, -1.56565657],\n",
       "       [-4.83795152,  1.26262626],\n",
       "       [-3.5855029 , -3.48484848],\n",
       "       [-9.68894344, -2.47474747],\n",
       "       [-3.37742495, -3.68686869],\n",
       "       [ 9.94359667, -1.06060606],\n",
       "       [-8.98294476, -4.39393939],\n",
       "       [-3.48448249,  3.58585859],\n",
       "       [ 9.21284664,  3.88888889],\n",
       "       [ 9.7832598 ,  2.07070707],\n",
       "       [ 9.25483518,  3.78787879],\n",
       "       [ 2.563349  ,  4.29292929],\n",
       "       [ 4.94227468, -0.75757576],\n",
       "       [ 4.1573971 ,  2.77777778],\n",
       "       [ 3.14269681, -3.88888889],\n",
       "       [ 9.12493632, -4.09090909],\n",
       "       [-4.90705366, -0.95959596],\n",
       "       [-8.88128118, -4.5959596 ],\n",
       "       [ 4.99770379,  0.15151515],\n",
       "       [-4.2231404 ,  2.67676768],\n",
       "       [-9.03165312, -4.29292929],\n",
       "       [-9.44579475,  3.28282828],\n",
       "       [ 9.99681104, -0.25252525],\n",
       "       [-9.73831149, -2.27272727]])"
      ]
     },
     "execution_count": 58,
     "metadata": {},
     "output_type": "execute_result"
    }
   ],
   "source": [
    "X_train.reshape(-1,2) "
   ]
  },
  {
   "cell_type": "code",
   "execution_count": 59,
   "id": "a7d1f5b0",
   "metadata": {},
   "outputs": [
    {
     "data": {
      "text/plain": [
       "array([[1],\n",
       "       [0],\n",
       "       [1],\n",
       "       [0],\n",
       "       [1],\n",
       "       [1],\n",
       "       [0],\n",
       "       [1],\n",
       "       [0],\n",
       "       [1],\n",
       "       [0],\n",
       "       [0],\n",
       "       [1],\n",
       "       [0],\n",
       "       [1],\n",
       "       [1],\n",
       "       [1],\n",
       "       [0],\n",
       "       [1],\n",
       "       [1],\n",
       "       [0],\n",
       "       [1],\n",
       "       [1],\n",
       "       [1],\n",
       "       [1],\n",
       "       [0],\n",
       "       [0],\n",
       "       [1],\n",
       "       [1],\n",
       "       [0],\n",
       "       [0],\n",
       "       [1],\n",
       "       [0],\n",
       "       [1],\n",
       "       [1],\n",
       "       [0],\n",
       "       [1],\n",
       "       [0],\n",
       "       [1],\n",
       "       [0],\n",
       "       [0],\n",
       "       [0],\n",
       "       [0],\n",
       "       [0],\n",
       "       [1],\n",
       "       [0],\n",
       "       [1],\n",
       "       [1],\n",
       "       [1],\n",
       "       [0],\n",
       "       [1],\n",
       "       [0],\n",
       "       [1],\n",
       "       [0],\n",
       "       [1],\n",
       "       [0],\n",
       "       [1],\n",
       "       [0],\n",
       "       [0],\n",
       "       [1],\n",
       "       [1],\n",
       "       [0],\n",
       "       [0],\n",
       "       [1],\n",
       "       [0],\n",
       "       [0],\n",
       "       [1],\n",
       "       [0],\n",
       "       [0],\n",
       "       [0],\n",
       "       [0],\n",
       "       [1],\n",
       "       [1],\n",
       "       [1],\n",
       "       [1],\n",
       "       [1],\n",
       "       [0],\n",
       "       [0],\n",
       "       [1],\n",
       "       [1],\n",
       "       [1],\n",
       "       [0],\n",
       "       [0],\n",
       "       [1],\n",
       "       [1],\n",
       "       [1],\n",
       "       [0],\n",
       "       [0],\n",
       "       [1],\n",
       "       [1],\n",
       "       [0],\n",
       "       [1],\n",
       "       [1],\n",
       "       [0],\n",
       "       [0],\n",
       "       [1],\n",
       "       [0],\n",
       "       [1],\n",
       "       [1],\n",
       "       [1],\n",
       "       [0],\n",
       "       [1],\n",
       "       [1],\n",
       "       [1],\n",
       "       [1],\n",
       "       [1],\n",
       "       [1],\n",
       "       [0],\n",
       "       [1],\n",
       "       [1],\n",
       "       [0],\n",
       "       [0],\n",
       "       [1],\n",
       "       [0],\n",
       "       [1],\n",
       "       [0],\n",
       "       [0],\n",
       "       [0],\n",
       "       [0],\n",
       "       [1],\n",
       "       [1],\n",
       "       [1],\n",
       "       [0],\n",
       "       [0],\n",
       "       [1],\n",
       "       [0],\n",
       "       [1],\n",
       "       [1],\n",
       "       [0],\n",
       "       [0],\n",
       "       [1],\n",
       "       [1],\n",
       "       [1],\n",
       "       [1],\n",
       "       [1],\n",
       "       [0],\n",
       "       [0],\n",
       "       [0],\n",
       "       [0],\n",
       "       [0],\n",
       "       [1],\n",
       "       [0],\n",
       "       [1],\n",
       "       [0],\n",
       "       [1],\n",
       "       [1],\n",
       "       [0],\n",
       "       [0],\n",
       "       [0],\n",
       "       [0],\n",
       "       [0],\n",
       "       [1],\n",
       "       [0],\n",
       "       [0],\n",
       "       [1],\n",
       "       [1],\n",
       "       [1],\n",
       "       [0],\n",
       "       [1],\n",
       "       [1],\n",
       "       [1],\n",
       "       [1],\n",
       "       [0],\n",
       "       [1],\n",
       "       [1],\n",
       "       [0],\n",
       "       [1],\n",
       "       [0],\n",
       "       [0],\n",
       "       [0],\n",
       "       [1],\n",
       "       [1],\n",
       "       [1],\n",
       "       [0],\n",
       "       [1],\n",
       "       [0],\n",
       "       [1],\n",
       "       [0],\n",
       "       [1],\n",
       "       [0],\n",
       "       [1],\n",
       "       [0],\n",
       "       [1],\n",
       "       [0],\n",
       "       [0],\n",
       "       [1],\n",
       "       [0],\n",
       "       [1],\n",
       "       [1],\n",
       "       [1],\n",
       "       [1],\n",
       "       [0],\n",
       "       [1],\n",
       "       [0],\n",
       "       [1],\n",
       "       [0],\n",
       "       [0],\n",
       "       [0],\n",
       "       [0],\n",
       "       [0],\n",
       "       [1],\n",
       "       [1],\n",
       "       [0],\n",
       "       [1],\n",
       "       [0],\n",
       "       [1],\n",
       "       [0],\n",
       "       [1],\n",
       "       [0],\n",
       "       [1],\n",
       "       [0],\n",
       "       [0],\n",
       "       [1],\n",
       "       [0],\n",
       "       [1],\n",
       "       [1],\n",
       "       [1],\n",
       "       [0],\n",
       "       [0],\n",
       "       [0],\n",
       "       [0],\n",
       "       [1],\n",
       "       [1],\n",
       "       [1],\n",
       "       [1],\n",
       "       [1],\n",
       "       [0],\n",
       "       [0],\n",
       "       [1],\n",
       "       [1],\n",
       "       [0],\n",
       "       [0],\n",
       "       [1],\n",
       "       [0],\n",
       "       [1],\n",
       "       [0],\n",
       "       [1],\n",
       "       [1],\n",
       "       [1],\n",
       "       [0],\n",
       "       [0],\n",
       "       [1],\n",
       "       [1],\n",
       "       [1],\n",
       "       [0],\n",
       "       [0],\n",
       "       [1],\n",
       "       [0],\n",
       "       [1],\n",
       "       [0],\n",
       "       [0],\n",
       "       [0],\n",
       "       [0],\n",
       "       [1],\n",
       "       [1],\n",
       "       [0],\n",
       "       [0],\n",
       "       [0],\n",
       "       [0],\n",
       "       [1],\n",
       "       [1],\n",
       "       [1],\n",
       "       [0],\n",
       "       [1],\n",
       "       [1],\n",
       "       [0],\n",
       "       [0],\n",
       "       [1],\n",
       "       [1],\n",
       "       [0],\n",
       "       [1],\n",
       "       [0],\n",
       "       [1],\n",
       "       [0],\n",
       "       [1],\n",
       "       [0],\n",
       "       [0],\n",
       "       [1],\n",
       "       [1],\n",
       "       [0],\n",
       "       [1],\n",
       "       [0],\n",
       "       [0],\n",
       "       [1],\n",
       "       [0],\n",
       "       [0],\n",
       "       [0],\n",
       "       [1],\n",
       "       [1],\n",
       "       [1],\n",
       "       [1],\n",
       "       [0],\n",
       "       [1],\n",
       "       [0],\n",
       "       [1],\n",
       "       [1],\n",
       "       [0],\n",
       "       [0],\n",
       "       [0],\n",
       "       [0]], dtype=int64)"
      ]
     },
     "execution_count": 59,
     "metadata": {},
     "output_type": "execute_result"
    }
   ],
   "source": [
    "y_train.reshape(-1,1)"
   ]
  },
  {
   "cell_type": "code",
   "execution_count": 53,
   "id": "2813e6e8",
   "metadata": {},
   "outputs": [],
   "source": [
    "X = X.reshape(-1,2)"
   ]
  },
  {
   "cell_type": "code",
   "execution_count": 54,
   "id": "8ff6e305",
   "metadata": {},
   "outputs": [],
   "source": [
    "y = y.reshape(-1,1)"
   ]
  },
  {
   "cell_type": "markdown",
   "id": "0cf7460d",
   "metadata": {},
   "source": [
    "# Using SVM kernels to classify."
   ]
  },
  {
   "cell_type": "code",
   "execution_count": 60,
   "id": "ed98ae8f",
   "metadata": {},
   "outputs": [
    {
     "name": "stderr",
     "output_type": "stream",
     "text": [
      "C:\\Users\\RIDHIM\\anaconda3\\lib\\site-packages\\sklearn\\utils\\validation.py:63: DataConversionWarning: A column-vector y was passed when a 1d array was expected. Please change the shape of y to (n_samples, ), for example using ravel().\n",
      "  return f(*args, **kwargs)\n"
     ]
    },
    {
     "data": {
      "text/plain": [
       "SVC(kernel='linear')"
      ]
     },
     "execution_count": 60,
     "metadata": {},
     "output_type": "execute_result"
    }
   ],
   "source": [
    "from sklearn.svm import SVC\n",
    "classifier = SVC(kernel='linear')\n",
    "classifier.fit(X_train,y_train)"
   ]
  },
  {
   "cell_type": "code",
   "execution_count": 61,
   "id": "ae836af2",
   "metadata": {},
   "outputs": [
    {
     "data": {
      "text/plain": [
       "0.45"
      ]
     },
     "execution_count": 61,
     "metadata": {},
     "output_type": "execute_result"
    }
   ],
   "source": [
    "from sklearn.metrics import accuracy_score\n",
    "y_pred = classifier.predict(X_test)\n",
    "accuracy_score(y_test, y_pred)"
   ]
  },
  {
   "cell_type": "markdown",
   "id": "9a8c098f",
   "metadata": {},
   "source": [
    "## only 45 % accuracy using the linear kernel."
   ]
  },
  {
   "cell_type": "code",
   "execution_count": null,
   "id": "706bf3ee",
   "metadata": {},
   "outputs": [],
   "source": []
  },
  {
   "cell_type": "markdown",
   "id": "8ad3e7b2",
   "metadata": {},
   "source": [
    "# now using the polynomial kernel"
   ]
  },
  {
   "cell_type": "code",
   "execution_count": 63,
   "id": "2272001f",
   "metadata": {},
   "outputs": [],
   "source": [
    "## refer ss named -- poly kernel example code for mathematical clarity.\n",
    "\n",
    "##basically in the polynomial kernel formula in the ss we take x as X1 and X2.\n",
    "## y also as X1 and X2 and then do the matrix multiplication to find certain values\n",
    "## like X1^2 ,etc. which are the new features"
   ]
  },
  {
   "cell_type": "code",
   "execution_count": 64,
   "id": "f236c2c3",
   "metadata": {},
   "outputs": [
    {
     "data": {
      "text/html": [
       "<div>\n",
       "<style scoped>\n",
       "    .dataframe tbody tr th:only-of-type {\n",
       "        vertical-align: middle;\n",
       "    }\n",
       "\n",
       "    .dataframe tbody tr th {\n",
       "        vertical-align: top;\n",
       "    }\n",
       "\n",
       "    .dataframe thead th {\n",
       "        text-align: right;\n",
       "    }\n",
       "</style>\n",
       "<table border=\"1\" class=\"dataframe\">\n",
       "  <thead>\n",
       "    <tr style=\"text-align: right;\">\n",
       "      <th></th>\n",
       "      <th>X1</th>\n",
       "      <th>X2</th>\n",
       "      <th>Y</th>\n",
       "      <th>X1_Square</th>\n",
       "      <th>X2_Square</th>\n",
       "      <th>X1*X2</th>\n",
       "    </tr>\n",
       "  </thead>\n",
       "  <tbody>\n",
       "    <tr>\n",
       "      <th>0</th>\n",
       "      <td>8.660254</td>\n",
       "      <td>-5.00000</td>\n",
       "      <td>0</td>\n",
       "      <td>75.000000</td>\n",
       "      <td>25.000000</td>\n",
       "      <td>-43.301270</td>\n",
       "    </tr>\n",
       "    <tr>\n",
       "      <th>1</th>\n",
       "      <td>8.717792</td>\n",
       "      <td>-4.89899</td>\n",
       "      <td>0</td>\n",
       "      <td>75.999898</td>\n",
       "      <td>24.000102</td>\n",
       "      <td>-42.708375</td>\n",
       "    </tr>\n",
       "    <tr>\n",
       "      <th>2</th>\n",
       "      <td>8.773790</td>\n",
       "      <td>-4.79798</td>\n",
       "      <td>0</td>\n",
       "      <td>76.979390</td>\n",
       "      <td>23.020610</td>\n",
       "      <td>-42.096467</td>\n",
       "    </tr>\n",
       "    <tr>\n",
       "      <th>3</th>\n",
       "      <td>8.828277</td>\n",
       "      <td>-4.69697</td>\n",
       "      <td>0</td>\n",
       "      <td>77.938476</td>\n",
       "      <td>22.061524</td>\n",
       "      <td>-41.466150</td>\n",
       "    </tr>\n",
       "    <tr>\n",
       "      <th>4</th>\n",
       "      <td>8.881281</td>\n",
       "      <td>-4.59596</td>\n",
       "      <td>0</td>\n",
       "      <td>78.877155</td>\n",
       "      <td>21.122845</td>\n",
       "      <td>-40.818009</td>\n",
       "    </tr>\n",
       "  </tbody>\n",
       "</table>\n",
       "</div>"
      ],
      "text/plain": [
       "         X1       X2  Y  X1_Square  X2_Square      X1*X2\n",
       "0  8.660254 -5.00000  0  75.000000  25.000000 -43.301270\n",
       "1  8.717792 -4.89899  0  75.999898  24.000102 -42.708375\n",
       "2  8.773790 -4.79798  0  76.979390  23.020610 -42.096467\n",
       "3  8.828277 -4.69697  0  77.938476  22.061524 -41.466150\n",
       "4  8.881281 -4.59596  0  78.877155  21.122845 -40.818009"
      ]
     },
     "execution_count": 64,
     "metadata": {},
     "output_type": "execute_result"
    }
   ],
   "source": [
    "# We need to find components for the Polynomical Kernel\n",
    "#X1,X2,X1_square,X2_square,X1*X2\n",
    "df['X1_Square']= df['X1']**2 ## X1 square. \n",
    "df['X2_Square']= df['X2']**2\n",
    "df['X1*X2'] = (df['X1'] *df['X2'])\n",
    "df.head()"
   ]
  },
  {
   "cell_type": "code",
   "execution_count": 65,
   "id": "a22c7543",
   "metadata": {},
   "outputs": [],
   "source": [
    "### Independent and Dependent features\n",
    "X = df[['X1','X2','X1_Square','X2_Square','X1*X2']]\n",
    "y = df['Y']"
   ]
  },
  {
   "cell_type": "code",
   "execution_count": 66,
   "id": "493b7398",
   "metadata": {},
   "outputs": [
    {
     "data": {
      "text/plain": [
       "0      0\n",
       "1      0\n",
       "2      0\n",
       "3      0\n",
       "4      0\n",
       "      ..\n",
       "195    1\n",
       "196    1\n",
       "197    1\n",
       "198    1\n",
       "199    1\n",
       "Name: Y, Length: 400, dtype: int64"
      ]
     },
     "execution_count": 66,
     "metadata": {},
     "output_type": "execute_result"
    }
   ],
   "source": [
    "y"
   ]
  },
  {
   "cell_type": "code",
   "execution_count": 67,
   "id": "394d39a5",
   "metadata": {},
   "outputs": [],
   "source": [
    "X_train, X_test, y_train, y_test = train_test_split(X, y, \n",
    "                                                    test_size = 0.25, \n",
    "                                                    random_state = 0)"
   ]
  },
  {
   "cell_type": "code",
   "execution_count": 68,
   "id": "a624e4e5",
   "metadata": {},
   "outputs": [
    {
     "data": {
      "text/html": [
       "<div>\n",
       "<style scoped>\n",
       "    .dataframe tbody tr th:only-of-type {\n",
       "        vertical-align: middle;\n",
       "    }\n",
       "\n",
       "    .dataframe tbody tr th {\n",
       "        vertical-align: top;\n",
       "    }\n",
       "\n",
       "    .dataframe thead th {\n",
       "        text-align: right;\n",
       "    }\n",
       "</style>\n",
       "<table border=\"1\" class=\"dataframe\">\n",
       "  <thead>\n",
       "    <tr style=\"text-align: right;\">\n",
       "      <th></th>\n",
       "      <th>X1</th>\n",
       "      <th>X2</th>\n",
       "      <th>X1_Square</th>\n",
       "      <th>X2_Square</th>\n",
       "      <th>X1*X2</th>\n",
       "    </tr>\n",
       "  </thead>\n",
       "  <tbody>\n",
       "    <tr>\n",
       "      <th>50</th>\n",
       "      <td>4.999745</td>\n",
       "      <td>0.050505</td>\n",
       "      <td>24.997449</td>\n",
       "      <td>0.002551</td>\n",
       "      <td>0.252512</td>\n",
       "    </tr>\n",
       "    <tr>\n",
       "      <th>63</th>\n",
       "      <td>9.906589</td>\n",
       "      <td>1.363636</td>\n",
       "      <td>98.140496</td>\n",
       "      <td>1.859504</td>\n",
       "      <td>13.508984</td>\n",
       "    </tr>\n",
       "    <tr>\n",
       "      <th>112</th>\n",
       "      <td>-3.263736</td>\n",
       "      <td>3.787879</td>\n",
       "      <td>10.651974</td>\n",
       "      <td>14.348026</td>\n",
       "      <td>-12.362637</td>\n",
       "    </tr>\n",
       "    <tr>\n",
       "      <th>159</th>\n",
       "      <td>-9.953852</td>\n",
       "      <td>-0.959596</td>\n",
       "      <td>99.079176</td>\n",
       "      <td>0.920824</td>\n",
       "      <td>9.551676</td>\n",
       "    </tr>\n",
       "    <tr>\n",
       "      <th>83</th>\n",
       "      <td>3.680983</td>\n",
       "      <td>3.383838</td>\n",
       "      <td>13.549638</td>\n",
       "      <td>11.450362</td>\n",
       "      <td>12.455852</td>\n",
       "    </tr>\n",
       "    <tr>\n",
       "      <th>...</th>\n",
       "      <td>...</td>\n",
       "      <td>...</td>\n",
       "      <td>...</td>\n",
       "      <td>...</td>\n",
       "      <td>...</td>\n",
       "    </tr>\n",
       "    <tr>\n",
       "      <th>123</th>\n",
       "      <td>-4.223140</td>\n",
       "      <td>2.676768</td>\n",
       "      <td>17.834915</td>\n",
       "      <td>7.165085</td>\n",
       "      <td>-11.304366</td>\n",
       "    </tr>\n",
       "    <tr>\n",
       "      <th>192</th>\n",
       "      <td>-9.031653</td>\n",
       "      <td>-4.292929</td>\n",
       "      <td>81.570758</td>\n",
       "      <td>18.429242</td>\n",
       "      <td>38.772248</td>\n",
       "    </tr>\n",
       "    <tr>\n",
       "      <th>117</th>\n",
       "      <td>-9.445795</td>\n",
       "      <td>3.282828</td>\n",
       "      <td>89.223038</td>\n",
       "      <td>10.776962</td>\n",
       "      <td>-31.008922</td>\n",
       "    </tr>\n",
       "    <tr>\n",
       "      <th>47</th>\n",
       "      <td>9.996811</td>\n",
       "      <td>-0.252525</td>\n",
       "      <td>99.936231</td>\n",
       "      <td>0.063769</td>\n",
       "      <td>-2.524447</td>\n",
       "    </tr>\n",
       "    <tr>\n",
       "      <th>172</th>\n",
       "      <td>-9.738311</td>\n",
       "      <td>-2.272727</td>\n",
       "      <td>94.834711</td>\n",
       "      <td>5.165289</td>\n",
       "      <td>22.132526</td>\n",
       "    </tr>\n",
       "  </tbody>\n",
       "</table>\n",
       "<p>300 rows × 5 columns</p>\n",
       "</div>"
      ],
      "text/plain": [
       "           X1        X2  X1_Square  X2_Square      X1*X2\n",
       "50   4.999745  0.050505  24.997449   0.002551   0.252512\n",
       "63   9.906589  1.363636  98.140496   1.859504  13.508984\n",
       "112 -3.263736  3.787879  10.651974  14.348026 -12.362637\n",
       "159 -9.953852 -0.959596  99.079176   0.920824   9.551676\n",
       "83   3.680983  3.383838  13.549638  11.450362  12.455852\n",
       "..        ...       ...        ...        ...        ...\n",
       "123 -4.223140  2.676768  17.834915   7.165085 -11.304366\n",
       "192 -9.031653 -4.292929  81.570758  18.429242  38.772248\n",
       "117 -9.445795  3.282828  89.223038  10.776962 -31.008922\n",
       "47   9.996811 -0.252525  99.936231   0.063769  -2.524447\n",
       "172 -9.738311 -2.272727  94.834711   5.165289  22.132526\n",
       "\n",
       "[300 rows x 5 columns]"
      ]
     },
     "execution_count": 68,
     "metadata": {},
     "output_type": "execute_result"
    }
   ],
   "source": [
    "X_train"
   ]
  },
  {
   "cell_type": "code",
   "execution_count": 72,
   "id": "a6937964",
   "metadata": {},
   "outputs": [],
   "source": [
    "from mpl_toolkits.mplot3d import Axes3D\n",
    "import matplotlib.pyplot as plt"
   ]
  },
  {
   "cell_type": "code",
   "execution_count": 73,
   "id": "940148ff",
   "metadata": {},
   "outputs": [],
   "source": [
    "xs = df['X1']\n",
    "ys = df['X2']\n",
    "zs = df['X1*X2']"
   ]
  },
  {
   "cell_type": "code",
   "execution_count": 75,
   "id": "547451f2",
   "metadata": {},
   "outputs": [
    {
     "name": "stderr",
     "output_type": "stream",
     "text": [
      "C:\\Users\\RIDHIM\\AppData\\Local\\Temp/ipykernel_7068/674768465.py:2: MatplotlibDeprecationWarning: Axes3D(fig) adding itself to the figure is deprecated since 3.4. Pass the keyword argument auto_add_to_figure=False and use fig.add_axes(ax) to suppress this warning. The default value of auto_add_to_figure will change to False in mpl3.5 and True values will no longer work in 3.6.  This is consistent with other Axes classes.\n",
      "  ax = Axes3D(fig)\n"
     ]
    },
    {
     "data": {
      "image/png": "[encoded data removed]",
      "text/plain": [
       "<Figure size 432x288 with 1 Axes>"
      ]
     },
     "metadata": {
      "needs_background": "light"
     },
     "output_type": "display_data"
    }
   ],
   "source": [
    "fig = plt.figure()\n",
    "ax = Axes3D(fig)\n",
    "  \n",
    "# creating the plot\n",
    "plot_geeks = ax.scatter(xs, ys, zs)"
   ]
  },
  {
   "cell_type": "markdown",
   "id": "67f5eea7",
   "metadata": {},
   "source": [
    "## no plane which can classify the points here."
   ]
  },
  {
   "cell_type": "code",
   "execution_count": null,
   "id": "64298579",
   "metadata": {},
   "outputs": [],
   "source": []
  },
  {
   "cell_type": "code",
   "execution_count": 76,
   "id": "608452e0",
   "metadata": {},
   "outputs": [],
   "source": [
    "xs = df['X1_Square']\n",
    "ys = df['X2_Square']\n",
    "zs = df['X1*X2']"
   ]
  },
  {
   "cell_type": "code",
   "execution_count": 78,
   "id": "510b9c0c",
   "metadata": {},
   "outputs": [
    {
     "name": "stderr",
     "output_type": "stream",
     "text": [
      "C:\\Users\\RIDHIM\\AppData\\Local\\Temp/ipykernel_7068/3439230536.py:2: MatplotlibDeprecationWarning: Axes3D(fig) adding itself to the figure is deprecated since 3.4. Pass the keyword argument auto_add_to_figure=False and use fig.add_axes(ax) to suppress this warning. The default value of auto_add_to_figure will change to False in mpl3.5 and True values will no longer work in 3.6.  This is consistent with other Axes classes.\n",
      "  ax = Axes3D(fig)\n"
     ]
    },
    {
     "data": {
      "image/png": "[encoded data removed]",
      "text/plain": [
       "<Figure size 432x288 with 1 Axes>"
      ]
     },
     "metadata": {
      "needs_background": "light"
     },
     "output_type": "display_data"
    }
   ],
   "source": [
    "fig = plt.figure()\n",
    "ax = Axes3D(fig)\n",
    "  \n",
    "\n",
    "plot_geeks = ax.scatter(xs, ys, zs)"
   ]
  },
  {
   "cell_type": "markdown",
   "id": "b5f6f24e",
   "metadata": {},
   "source": [
    "## now a linear kernel can be used to classify."
   ]
  },
  {
   "cell_type": "code",
   "execution_count": null,
   "id": "c8c78acb",
   "metadata": {},
   "outputs": [],
   "source": []
  },
  {
   "cell_type": "code",
   "execution_count": 79,
   "id": "35f1ffbf",
   "metadata": {},
   "outputs": [
    {
     "data": {
      "text/plain": [
       "1.0"
      ]
     },
     "execution_count": 79,
     "metadata": {},
     "output_type": "execute_result"
    }
   ],
   "source": [
    "classifier = SVC(kernel=\"linear\")\n",
    "classifier.fit(X_train, y_train)\n",
    "y_pred = classifier.predict(X_test)\n",
    "accuracy_score(y_test, y_pred)"
   ]
  },
  {
   "cell_type": "code",
   "execution_count": null,
   "id": "04b7c512",
   "metadata": {},
   "outputs": [],
   "source": []
  },
  {
   "cell_type": "markdown",
   "id": "72334c51",
   "metadata": {},
   "source": [
    "# alternatively all of this can directly be done -- using rbf kernel."
   ]
  },
  {
   "cell_type": "code",
   "execution_count": null,
   "id": "7ed31d5e",
   "metadata": {},
   "outputs": [],
   "source": []
  },
  {
   "cell_type": "code",
   "execution_count": 81,
   "id": "2df12bcc",
   "metadata": {},
   "outputs": [],
   "source": [
    "x = np.linspace(-5.0, 5.0, 100)\n",
    "y = np.sqrt(10**2 - x**2)\n",
    "y=np.hstack([y,-y])\n",
    "x=np.hstack([x,-x])"
   ]
  },
  {
   "cell_type": "code",
   "execution_count": 82,
   "id": "eac19d42",
   "metadata": {},
   "outputs": [],
   "source": [
    "x1 = np.linspace(-5.0, 5.0, 100)\n",
    "y1 = np.sqrt(5**2 - x1**2)\n",
    "y1=np.hstack([y1,-y1])\n",
    "x1=np.hstack([x1,-x1])"
   ]
  },
  {
   "cell_type": "code",
   "execution_count": 83,
   "id": "83bbd616",
   "metadata": {},
   "outputs": [
    {
     "data": {
      "text/plain": [
       "<matplotlib.collections.PathCollection at 0x2225b10bbe0>"
      ]
     },
     "execution_count": 83,
     "metadata": {},
     "output_type": "execute_result"
    },
    {
     "data": {
      "image/png": "[encoded data removed]",
      "text/plain": [
       "<Figure size 432x288 with 1 Axes>"
      ]
     },
     "metadata": {
      "needs_background": "light"
     },
     "output_type": "display_data"
    }
   ],
   "source": [
    "plt.scatter(y,x)\n",
    "plt.scatter(y1,x1)"
   ]
  },
  {
   "cell_type": "code",
   "execution_count": 84,
   "id": "1f563406",
   "metadata": {},
   "outputs": [
    {
     "data": {
      "text/html": [
       "<div>\n",
       "<style scoped>\n",
       "    .dataframe tbody tr th:only-of-type {\n",
       "        vertical-align: middle;\n",
       "    }\n",
       "\n",
       "    .dataframe tbody tr th {\n",
       "        vertical-align: top;\n",
       "    }\n",
       "\n",
       "    .dataframe thead th {\n",
       "        text-align: right;\n",
       "    }\n",
       "</style>\n",
       "<table border=\"1\" class=\"dataframe\">\n",
       "  <thead>\n",
       "    <tr style=\"text-align: right;\">\n",
       "      <th></th>\n",
       "      <th>X1</th>\n",
       "      <th>X2</th>\n",
       "      <th>Y</th>\n",
       "    </tr>\n",
       "  </thead>\n",
       "  <tbody>\n",
       "    <tr>\n",
       "      <th>0</th>\n",
       "      <td>8.660254</td>\n",
       "      <td>-5.00000</td>\n",
       "      <td>0</td>\n",
       "    </tr>\n",
       "    <tr>\n",
       "      <th>1</th>\n",
       "      <td>8.717792</td>\n",
       "      <td>-4.89899</td>\n",
       "      <td>0</td>\n",
       "    </tr>\n",
       "    <tr>\n",
       "      <th>2</th>\n",
       "      <td>8.773790</td>\n",
       "      <td>-4.79798</td>\n",
       "      <td>0</td>\n",
       "    </tr>\n",
       "    <tr>\n",
       "      <th>3</th>\n",
       "      <td>8.828277</td>\n",
       "      <td>-4.69697</td>\n",
       "      <td>0</td>\n",
       "    </tr>\n",
       "    <tr>\n",
       "      <th>4</th>\n",
       "      <td>8.881281</td>\n",
       "      <td>-4.59596</td>\n",
       "      <td>0</td>\n",
       "    </tr>\n",
       "  </tbody>\n",
       "</table>\n",
       "</div>"
      ],
      "text/plain": [
       "         X1       X2  Y\n",
       "0  8.660254 -5.00000  0\n",
       "1  8.717792 -4.89899  0\n",
       "2  8.773790 -4.79798  0\n",
       "3  8.828277 -4.69697  0\n",
       "4  8.881281 -4.59596  0"
      ]
     },
     "execution_count": 84,
     "metadata": {},
     "output_type": "execute_result"
    }
   ],
   "source": [
    "import pandas as pd\n",
    "df1 =pd.DataFrame(np.vstack([y,x]).T,columns=['X1','X2'])\n",
    "df1['Y']=0\n",
    "df2 =pd.DataFrame(np.vstack([y1,x1]).T,columns=['X1','X2'])\n",
    "df2['Y']=1\n",
    "df = df1.append(df2)\n",
    "df.head(5)"
   ]
  },
  {
   "cell_type": "code",
   "execution_count": 85,
   "id": "c76d3452",
   "metadata": {},
   "outputs": [],
   "source": [
    "### Independent and Dependent features\n",
    "X = df.iloc[:, :2]  \n",
    "y = df.Y"
   ]
  },
  {
   "cell_type": "code",
   "execution_count": 86,
   "id": "b05004b8",
   "metadata": {},
   "outputs": [],
   "source": [
    "## Split the dataset into train and test\n",
    "from sklearn.model_selection import train_test_split\n",
    "X_train,X_test,y_train,y_test=train_test_split(X,y,test_size=0.25,random_state=0)"
   ]
  },
  {
   "cell_type": "code",
   "execution_count": 87,
   "id": "acae7fe6",
   "metadata": {},
   "outputs": [
    {
     "data": {
      "text/plain": [
       "50     1\n",
       "63     0\n",
       "112    1\n",
       "159    0\n",
       "83     1\n",
       "      ..\n",
       "123    1\n",
       "192    0\n",
       "117    0\n",
       "47     0\n",
       "172    0\n",
       "Name: Y, Length: 300, dtype: int64"
      ]
     },
     "execution_count": 87,
     "metadata": {},
     "output_type": "execute_result"
    }
   ],
   "source": [
    "y_train"
   ]
  },
  {
   "cell_type": "code",
   "execution_count": 88,
   "id": "b0b849ea",
   "metadata": {},
   "outputs": [
    {
     "data": {
      "text/plain": [
       "SVC()"
      ]
     },
     "execution_count": 88,
     "metadata": {},
     "output_type": "execute_result"
    }
   ],
   "source": [
    "from sklearn.svm import SVC\n",
    "classifier=SVC(kernel=\"rbf\")\n",
    "classifier.fit(X_train,y_train)"
   ]
  },
  {
   "cell_type": "code",
   "execution_count": 89,
   "id": "218ac05b",
   "metadata": {},
   "outputs": [
    {
     "data": {
      "text/plain": [
       "1.0"
      ]
     },
     "execution_count": 89,
     "metadata": {},
     "output_type": "execute_result"
    }
   ],
   "source": [
    "from sklearn.metrics import accuracy_score\n",
    "y_pred = classifier.predict(X_test)\n",
    "accuracy_score(y_test, y_pred)"
   ]
  },
  {
   "cell_type": "code",
   "execution_count": null,
   "id": "b6e96b21",
   "metadata": {},
   "outputs": [],
   "source": []
  },
  {
   "cell_type": "code",
   "execution_count": null,
   "id": "a9521cbe",
   "metadata": {},
   "outputs": [],
   "source": []
  },
  {
   "cell_type": "code",
   "execution_count": null,
   "id": "da36cb5e",
   "metadata": {},
   "outputs": [],
   "source": []
  }
 ],
 "metadata": {
  "kernelspec": {
   "display_name": "Python 3 (ipykernel)",
   "language": "python",
   "name": "python3"
  },
  "language_info": {
   "codemirror_mode": {
    "name": "ipython",
    "version": 3
   },
   "file_extension": ".py",
   "mimetype": "text/x-python",
   "name": "python",
   "nbconvert_exporter": "python",
   "pygments_lexer": "ipython3",
   "version": "3.9.7"
  }
 },
 "nbformat": 4,
 "nbformat_minor": 5
}
